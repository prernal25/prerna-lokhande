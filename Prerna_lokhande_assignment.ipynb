{
 "cells": [
  {
   "cell_type": "markdown",
   "id": "d0e662e6-78bb-47c0-ac1d-5342f1174f8c",
   "metadata": {},
   "source": [
    "# Q1 "
   ]
  },
  {
   "cell_type": "code",
   "execution_count": 24,
   "id": "c90f320e-6963-406d-86d7-6865d177f2b8",
   "metadata": {},
   "outputs": [
    {
     "name": "stdout",
     "output_type": "stream",
     "text": [
      "original list: [1, 2, 300, 4, 5, 300]\n",
      "odd number list: [1, 5]\n",
      "even number list: [2, 300, 4, 300]\n"
     ]
    }
   ],
   "source": [
    "#create 2 lists from a given list where\n",
    "#1st list will contain all the odd number from the original list \n",
    "#the 2nd one will contain all even number \n",
    "\n",
    "odd_number = []\n",
    "even_number = []\n",
    "\n",
    "for num in L:\n",
    "    if num %2 == 0 :\n",
    "        even_number.append(num)\n",
    "    else:\n",
    "        odd_number.append(num)\n",
    "\n",
    "print(\"original list:\",L)\n",
    "print(\"odd number list:\",odd_number)\n",
    "print(\"even number list:\",even_number)"
   ]
  },
  {
   "cell_type": "markdown",
   "id": "53284c07-878c-4341-ad6c-d188f2c5d454",
   "metadata": {},
   "source": [
    "# Q2"
   ]
  },
  {
   "cell_type": "code",
   "execution_count": 9,
   "id": "6703a3cc-b10f-407c-a95a-e367f0cb5375",
   "metadata": {},
   "outputs": [
    {
     "name": "stdin",
     "output_type": "stream",
     "text": [
      "enter number of element: 3\n",
      " 4\n",
      " 5\n",
      " 0\n"
     ]
    },
    {
     "name": "stdout",
     "output_type": "stream",
     "text": [
      "[4, 5, 0]\n"
     ]
    }
   ],
   "source": [
    "#How to take list as input from user\n",
    "#creating an empty list\n",
    "lst=[]\n",
    "\n",
    "#number of elements as input \n",
    "n = int(input(\"enter number of element:\"))\n",
    "\n",
    "#iterating till the range\n",
    "for i in range(0,n):\n",
    "    ele=int(input())\n",
    "    #adding the element \n",
    "    lst.append(ele)\n",
    "\n",
    "print(lst)"
   ]
  },
  {
   "cell_type": "markdown",
   "id": "12ac87b6-d257-4699-9d7d-3ded2525772e",
   "metadata": {},
   "source": [
    "# Q3"
   ]
  },
  {
   "cell_type": "code",
   "execution_count": 22,
   "id": "65730be0-6018-4f63-87dd-e20608bb47c2",
   "metadata": {},
   "outputs": [
    {
     "name": "stdout",
     "output_type": "stream",
     "text": [
      "Merged list are: [1, 2, 3, 4, 5, 6, 7, 8]\n"
     ]
    }
   ],
   "source": [
    "#write a program to merge 2 list without using the + operator\n",
    "L1 =[1,2,3,4]\n",
    "L2=[5,6,7,8]\n",
    "\n",
    "for item in L2:\n",
    "    L1.append(item)\n",
    "\n",
    "print(\"Merged list are:\",L1)"
   ]
  },
  {
   "cell_type": "markdown",
   "id": "d2557438-afe9-4f7d-8ef1-43cd96593e41",
   "metadata": {},
   "source": [
    "# Q4"
   ]
  },
  {
   "cell_type": "code",
   "execution_count": 21,
   "id": "5896a503-accf-4791-a453-d8a0fc3c72e6",
   "metadata": {},
   "outputs": [
    {
     "name": "stdout",
     "output_type": "stream",
     "text": [
      "[1, 2, 300, 4, 5, 300]\n"
     ]
    }
   ],
   "source": [
    "# write a program to replace an item with a diffrent item if found in the list\n",
    "L=[1,2,3,4,5,3]\n",
    "replacement_item=300\n",
    "\n",
    "for i in range(len(L)):\n",
    "    if L[i]==3:\n",
    "       L[i]=replacement_item\n",
    "print(L)"
   ]
  },
  {
   "cell_type": "markdown",
   "id": "8a87252e-dda8-4fa1-a5b9-ff95dc571536",
   "metadata": {},
   "source": [
    "# Q5"
   ]
  },
  {
   "cell_type": "code",
   "execution_count": 23,
   "id": "525c3722-be3e-4194-8619-3365317347a2",
   "metadata": {},
   "outputs": [
    {
     "name": "stdout",
     "output_type": "stream",
     "text": [
      "ONED_list: [1, 2, 4, 5, 300]\n"
     ]
    }
   ],
   "source": [
    "#write a program that can convert a 2D list to 1D list\n",
    "TWOD_list=[[1,2,3],[4,5,6],[7,8,9]]\n",
    "NEW_list=list(set(L))\n",
    "print(\"ONED_list:\",NEW_list)"
   ]
  },
  {
   "cell_type": "markdown",
   "id": "ab888439-e43b-4ad9-a274-3531efa096fe",
   "metadata": {},
   "source": [
    "# Q6"
   ]
  },
  {
   "cell_type": "code",
   "execution_count": 25,
   "id": "204401c5-719c-4581-8cd2-0c909f1921bd",
   "metadata": {},
   "outputs": [
    {
     "name": "stdout",
     "output_type": "stream",
     "text": [
      "The new list are: [1, 2, 3, 4, 5]\n"
     ]
    }
   ],
   "source": [
    "#Write a program to remove duplicate item from a list\n",
    "L =[1,2,1,2,3,4,5,3,4]\n",
    "new_list = list(set(L))\n",
    "print(\"The new list are:\",new_list)\n",
    "\n"
   ]
  },
  {
   "cell_type": "markdown",
   "id": "795aca13-40ab-470e-ba8a-17199438d946",
   "metadata": {},
   "source": [
    "# Q7"
   ]
  },
  {
   "cell_type": "code",
   "execution_count": 28,
   "id": "79e8bd8a-3cb5-4986-a310-00a90cd20392",
   "metadata": {},
   "outputs": [
    {
     "name": "stdout",
     "output_type": "stream",
     "text": [
      "Yes,the list is sorted.\n"
     ]
    }
   ],
   "source": [
    "#write a program to check if a list is in ascending order or not\n",
    "test_list = [1,4,5,8,10]\n",
    "\n",
    "is_sorted = all(a<=b for a,b in \n",
    "zip(test_list,test_list[1:]))\n",
    "\n",
    "if is_sorted:\n",
    "    print(\"Yes,the list is sorted.\")\n",
    "else:\n",
    "    print(\"No,the list is not sorted.\")\n",
    "\n",
    "                "
   ]
  },
  {
   "cell_type": "code",
   "execution_count": null,
   "id": "fea51a82-3366-4750-bce0-d2226e6aa56d",
   "metadata": {},
   "outputs": [],
   "source": []
  }
 ],
 "metadata": {
  "kernelspec": {
   "display_name": "Python 3 (ipykernel)",
   "language": "python",
   "name": "python3"
  },
  "language_info": {
   "codemirror_mode": {
    "name": "ipython",
    "version": 3
   },
   "file_extension": ".py",
   "mimetype": "text/x-python",
   "name": "python",
   "nbconvert_exporter": "python",
   "pygments_lexer": "ipython3",
   "version": "3.11.7"
  }
 },
 "nbformat": 4,
 "nbformat_minor": 5
}
